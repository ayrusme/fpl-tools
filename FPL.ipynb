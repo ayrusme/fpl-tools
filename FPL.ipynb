{
 "cells": [
  {
   "cell_type": "code",
   "execution_count": null,
   "metadata": {},
   "outputs": [],
   "source": [
    "import requests as req\n",
    "import qgrid\n",
    "import pandas as pd\n",
    "from IPython.display import display, HTML\n",
    "\n",
    "BOOTSTRAP_STATIC_URL = 'https://fantasy.premierleague.com/api/bootstrap-static/'\n",
    "ELEMENT_DETAIL = 'https://fantasy.premierleague.com/api/element-summary/{ELEMENT_ID}'\n",
    "ELEMENTS_LIVE = 'https://fantasy.premierleague.com/api/event/{GAMEWEEK}/live/'\n",
    "ENTRY_DETAIL = 'https://fantasy.premierleague.com/api/entry/{USER_ID}/'\n",
    "GAMEWEEK_PICKS = 'https://fantasy.premierleague.com/api/entry/{USER_ID}/event/{GAMEWEEK}/picks'\n",
    "CLASSIC_LEAGUE_STANDINGS = 'https://fantasy.premierleague.com/api/leagues-classic-standings/{LEAGUE_ID}?page_new_entries=1&page_standings=1&phase=1'\n",
    "H2H_LEAGUE_STANDINGS = ''\n",
    "DREAM_TEAM = 'https://fantasy.premierleague.com/api/dream-team/{GAMEWEEK}/'\n",
    "\n",
    "DRAFT_BOOTSTRAP_STATIC_URL = 'https://draft.premierleague.com/api/bootstrap-static'\n",
    "DRAFT_LEAGUE_DETAILS = 'https://draft.premierleague.com/api/league/{LEAGUE_ID}/details'\n",
    "DRAFT_USER_PICK = 'https://draft.premierleague.com/api/entry/{USER_ID}/event/{GAMEWEEK}'\n",
    "\n",
    "# current user info\n",
    "USER_ID = '653325'\n",
    "DF_LEAGUE_ID = '80782'"
   ]
  },
  {
   "cell_type": "code",
   "execution_count": null,
   "metadata": {},
   "outputs": [],
   "source": [
    "resp = req.get(BOOTSTRAP_STATIC_URL)\n",
    "BOOTSTRAP_STATIC = resp.json()\n",
    "# store bootstrap static and live points to redis/postgres? even pandas will do\n",
    "\n",
    "CURRENT_GW = list(filter(lambda event: event['is_current'] == True, BOOTSTRAP_STATIC['events']))\n",
    "if CURRENT_GW:\n",
    "    CURRENT_GW = CURRENT_GW[0]\n",
    "NEXT_GW = list(filter(lambda event: event['is_next'] == True, BOOTSTRAP_STATIC['events']))\n",
    "if NEXT_GW:\n",
    "    NEXT_GW = NEXT_GW[0]\n",
    "    \n",
    "# get live points\n",
    "# query with current GW to the "
   ]
  },
  {
   "cell_type": "code",
   "execution_count": null,
   "metadata": {},
   "outputs": [],
   "source": [
    "# user info\n",
    "resp = req.get(ENTRY_DETAIL.format(USER_ID=USER_ID))\n",
    "USER_INFO = resp.json()\n",
    "\n",
    "# gather league list\n",
    "CLASSIC_LEAGUES = USER_INFO['leagues']['classic']\n",
    "H2H_LEAGUES = USER_INFO['leagues']['h2h']\n",
    "\n",
    "# mini league standings - need auth for this\n",
    "\n",
    "# construct greq for classic leagues\n",
    "\n",
    "url_keys = ''\n",
    "\n",
    "urls = [\n",
    "    \n",
    "]"
   ]
  },
  {
   "cell_type": "code",
   "execution_count": null,
   "metadata": {},
   "outputs": [],
   "source": [
    "resp = req.get(DRAFT_BOOTSTRAP_STATIC_URL)\n",
    "DFT_BOOTSTRAP_STATIC = resp.json()\n",
    "# store bootstrap static and live points to redis/postgres? even pandas will do\n",
    "\n",
    "DFT_CURRENT_GW = DFT_BOOTSTRAP_STATIC['events']['current']\n",
    "DFT_NEXT_GW = DFT_BOOTSTRAP_STATIC['events']['next']\n",
    "\n",
    "# df for all lists\n",
    "\n",
    "DFT_ELEMENTS_DF = pd.DataFrame(DFT_BOOTSTRAP_STATIC['elements'])\n",
    "DFT_ELEMENTS_DF.set_index('id', inplace=True)\n",
    "\n",
    "\n",
    "DFT_ELEMENT_TYPES = pd.DataFrame(DFT_BOOTSTRAP_STATIC['element_types'])\n",
    "DFT_ELEMENT_TYPES.set_index('id', inplace=True)"
   ]
  },
  {
   "cell_type": "code",
   "execution_count": null,
   "metadata": {},
   "outputs": [],
   "source": [
    "color_mapping = {\n",
    "    'GKP': 'pink',\n",
    "    'DEF': 'red',\n",
    "    'MID': 'blue',\n",
    "    'FWD': 'green'\n",
    "}\n",
    "\n",
    "def color_scheme(value):\n",
    "    return 'color: %s' % color_mapping(value)"
   ]
  },
  {
   "cell_type": "code",
   "execution_count": null,
   "metadata": {},
   "outputs": [],
   "source": [
    "# get all team details\n",
    "resp = req.get(DRAFT_LEAGUE_DETAILS.format(LEAGUE_ID=DF_LEAGUE_ID))\n",
    "\n",
    "entries_df = pd.DataFrame(resp.json()['league_entries'])\n",
    "\n",
    "standings_df = pd.DataFrame(resp.json()['standings'])"
   ]
  },
  {
   "cell_type": "code",
   "execution_count": null,
   "metadata": {},
   "outputs": [],
   "source": [
    "# show waiver pick\n",
    "qgrid.show_grid(entries_df[['entry_name', 'player_first_name', 'player_last_name', 'waiver_pick']])"
   ]
  },
  {
   "cell_type": "code",
   "execution_count": null,
   "metadata": {},
   "outputs": [],
   "source": [
    "for index, row in entries_df.iterrows():\n",
    "    # get all players for each team\n",
    "    'https://draft.premierleague.com/api/entry/{USER_ID}/event/{GAMEWEEK}'\n",
    "    res = req.get(DRAFT_USER_PICK.format(USER_ID=row['entry_id'], GAMEWEEK=DFT_CURRENT_GW))\n",
    "\n",
    "    df = pd.DataFrame(columns=['element_type', 'web_name'])\n",
    "    for item in res.json()['picks']:\n",
    "        elem = DFT_ELEMENTS_DF.loc[item['element'], :]\n",
    "        element_iter = {\n",
    "            'element_type': DFT_ELEMENT_TYPES.loc[elem['element_type'], :]['plural_name_short'], \n",
    "            'web_name': elem['web_name']\n",
    "        }\n",
    "        df = df.append(element_iter, ignore_index=True)\n",
    "\n",
    "    display(row['player_first_name'])\n",
    "    display(df)\n",
    "    df = df.iloc[0:0]"
   ]
  },
  {
   "cell_type": "code",
   "execution_count": null,
   "metadata": {},
   "outputs": [],
   "source": []
  },
  {
   "cell_type": "code",
   "execution_count": null,
   "metadata": {},
   "outputs": [],
   "source": []
  }
 ],
 "metadata": {
  "kernelspec": {
   "display_name": "Python 3",
   "language": "python",
   "name": "python3"
  },
  "language_info": {
   "codemirror_mode": {
    "name": "ipython",
    "version": 3
   },
   "file_extension": ".py",
   "mimetype": "text/x-python",
   "name": "python",
   "nbconvert_exporter": "python",
   "pygments_lexer": "ipython3",
   "version": "3.7.3"
  }
 },
 "nbformat": 4,
 "nbformat_minor": 2
}
