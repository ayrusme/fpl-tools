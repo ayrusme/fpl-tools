{
 "cells": [
  {
   "cell_type": "code",
   "execution_count": null,
   "metadata": {},
   "outputs": [],
   "source": [
    "import requests as req\n",
    "import grequests as greq\n",
    "\n",
    "BOOTSTRAP_STATIC_URL = \"https://fantasy.premierleague.com/api/bootstrap-static/\"\n",
    "ELEMENT_DETAIL = 'https://fantasy.premierleague.com/api/element-summary/{ELEMENT_ID}'\n",
    "ENTRY_DETAIL = 'https://fantasy.premierleague.com/api/entry/{USER_ID}/'\n",
    "GAMEWEEK_PICKS = 'https://fantasy.premierleague.com/api/entry/{TEAM_ID}/event/{GAMEWEEK}/picks'\n",
    "CLASSIC_LEAGUE_STANDINGS = 'https://fantasy.premierleague.com/api/leagues-classic-standings/{LEAGUE_ID}?page_new_entries=1&page_standings=1&phase=1'\n",
    "H2H_LEAGUE_STANDINGS = ''\n",
    "DREAM_TEAM = 'https://fantasy.premierleague.com/api/dream-team/{GAMEWEEK}/'\n",
    "\n",
    "# current user info\n",
    "USER_ID = '653325'"
   ]
  },
  {
   "cell_type": "code",
   "execution_count": null,
   "metadata": {},
   "outputs": [],
   "source": [
    "resp = req.get(BOOTSTRAP_STATIC_URL)\n",
    "BOOTSTRAP_STATIC = resp.json()\n",
    "# store bootstrap static to redis/postgres?\n",
    "\n",
    "CURRENT_GW = list(filter(lambda event: event['is_current'] == True, BOOTSTRAP_STATIC['events']))\n",
    "if CURRENT_GW:\n",
    "    CURRENT_GW = CURRENT_GW[0]\n",
    "NEXT_GW = list(filter(lambda event: event['is_next'] == True, BOOTSTRAP_STATIC['events']))\n",
    "if NEXT_GW:\n",
    "    NEXT_GW = NEXT_GW[0]\n",
    "    \n",
    "# get live points\n"
   ]
  },
  {
   "cell_type": "code",
   "execution_count": null,
   "metadata": {},
   "outputs": [],
   "source": [
    "# user info\n",
    "resp = req.get(ENTRY_DETAIL.format(USER_ID=USER_ID))\n",
    "USER_INFO = resp.json()\n",
    "\n",
    "# gather league list\n",
    "CLASSIC_LEAGUES = USER_INFO['leagues']['classic']\n",
    "H2H_LEAGUES = USER_INFO['leagues']['h2h']\n",
    "\n"
   ]
  },
  {
   "cell_type": "code",
   "execution_count": null,
   "metadata": {},
   "outputs": [],
   "source": [
    "# mini league standings\n",
    "\n",
    "# construct greq for classic leagues\n",
    "\n",
    "# construct greq for h2h leagues"
   ]
  },
  {
   "cell_type": "code",
   "execution_count": null,
   "metadata": {},
   "outputs": [],
   "source": []
  }
 ],
 "metadata": {
  "kernelspec": {
   "display_name": "Python 3",
   "language": "python",
   "name": "python3"
  },
  "language_info": {
   "codemirror_mode": {
    "name": "ipython",
    "version": 3
   },
   "file_extension": ".py",
   "mimetype": "text/x-python",
   "name": "python",
   "nbconvert_exporter": "python",
   "pygments_lexer": "ipython3",
   "version": "3.7.3"
  }
 },
 "nbformat": 4,
 "nbformat_minor": 2
}
